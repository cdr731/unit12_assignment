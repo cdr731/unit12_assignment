{
 "cells": [
  {
   "cell_type": "code",
   "execution_count": 1,
   "metadata": {},
   "outputs": [],
   "source": [
    "# Unit 12 Assignment - Mission to Mars\n",
    "# Step 1 - Scraping\n",
    "# by Christopher Reutz"
   ]
  },
  {
   "cell_type": "code",
   "execution_count": 2,
   "metadata": {},
   "outputs": [
    {
     "data": {
      "application/javascript": [
       "IPython.notebook.set_autosave_interval(0)"
      ]
     },
     "metadata": {},
     "output_type": "display_data"
    },
    {
     "name": "stdout",
     "output_type": "stream",
     "text": [
      "Autosave disabled\n"
     ]
    }
   ],
   "source": [
    "%autosave 0\n",
    "# Dependencies\n",
    "from splinter import Browser\n",
    "from bs4 import BeautifulSoup as bs\n",
    "import re"
   ]
  },
  {
   "cell_type": "code",
   "execution_count": 3,
   "metadata": {},
   "outputs": [],
   "source": [
    "# Initialize executable path for the chromedriver\n",
    "executable_path = {'executable_path': 'chromedriver.exe'}\n",
    "browser = Browser('chrome', **executable_path, headless=False)"
   ]
  },
  {
   "cell_type": "code",
   "execution_count": 4,
   "metadata": {},
   "outputs": [],
   "source": [
    "# --- Scrape \"NASA Mars News\" website for news info ---\n",
    "mars_news_url = 'https://mars.nasa.gov/news/'\n",
    "\n",
    "# Retrieve page with Splinter\n",
    "browser.visit(mars_news_url)\n",
    "\n",
    "# Create BeautifulSoup object and parse with 'html.parser'\n",
    "html = browser.html\n",
    "soup = bs(html, \"html.parser\")"
   ]
  },
  {
   "cell_type": "code",
   "execution_count": 5,
   "metadata": {},
   "outputs": [],
   "source": [
    "# Initialize lists to put titles and paragraphs into\n",
    "news_title_list = []\n",
    "news_p_list = []"
   ]
  },
  {
   "cell_type": "code",
   "execution_count": 6,
   "metadata": {},
   "outputs": [],
   "source": [
    "# Extract all article titles and paragraphs and put into lists\n",
    "results = soup.find_all('li', class_='slide')\n",
    "for result in results:\n",
    "        # Error handling\n",
    "    try:\n",
    "        # Identify and return the news title\n",
    "        nasa_news_title = result.find('div', class_=\"content_title\").a.text\n",
    "        # Identify and return the news paragraph text\n",
    "        nasa_news_p = result.find('div', class_=\"article_teaser_body\").text\n",
    "\n",
    "        # Print results only if title and paragraph text are available\n",
    "        if (nasa_news_title and nasa_news_p):\n",
    "            news_title_list.append(nasa_news_title)\n",
    "            news_p_list.append(nasa_news_p)\n",
    "    except AttributeError as e:\n",
    "        print(e)"
   ]
  },
  {
   "cell_type": "code",
   "execution_count": 7,
   "metadata": {
    "scrolled": true
   },
   "outputs": [
    {
     "name": "stdout",
     "output_type": "stream",
     "text": [
      "Curiosity Tastes First Sample in 'Clay-Bearing Unit'\n"
     ]
    }
   ],
   "source": [
    "# Latest \"NASA Mars News\" news title -- the first article (index=0)\n",
    "news_title = news_title_list[0]\n",
    "print(news_title)"
   ]
  },
  {
   "cell_type": "code",
   "execution_count": 8,
   "metadata": {},
   "outputs": [
    {
     "name": "stdout",
     "output_type": "stream",
     "text": [
      "This new region on Mars might reveal more about the role of water on Mount Sharp.\n"
     ]
    }
   ],
   "source": [
    "# Latest \"NASA Mars News\" next paragraph text -- the first article (index=0)\n",
    "news_p = news_p_list[0]\n",
    "print(news_p)"
   ]
  },
  {
   "cell_type": "code",
   "execution_count": 9,
   "metadata": {},
   "outputs": [],
   "source": [
    "# --- Scrape \"JPL Mars Space Images\" to get a URL for the featured image ---\n",
    "\n",
    "# Use Splinter to open up web browser to main page\n",
    "jpl_domain = 'https://www.jpl.nasa.gov'\n",
    "jpl_path = '/spaceimages/?search=&category=Mars'\n",
    "jpl_url = jpl_domain + jpl_path\n",
    "browser.visit(jpl_url)"
   ]
  },
  {
   "cell_type": "code",
   "execution_count": 10,
   "metadata": {},
   "outputs": [],
   "source": [
    "# Open the full featured image\n",
    "browser.click_link_by_partial_text('FULL IMAGE')"
   ]
  },
  {
   "cell_type": "code",
   "execution_count": 11,
   "metadata": {},
   "outputs": [],
   "source": [
    "# Open and parse the page with 'more info'\n",
    "browser.click_link_by_partial_text('more info')\n",
    "html = browser.html\n",
    "soup = bs(html, 'html.parser')"
   ]
  },
  {
   "cell_type": "code",
   "execution_count": 12,
   "metadata": {},
   "outputs": [
    {
     "name": "stdout",
     "output_type": "stream",
     "text": [
      "https://www.jpl.nasa.gov/spaceimages/images/largesize/PIA19977_hires.jpg\n"
     ]
    }
   ],
   "source": [
    "# Obtain URL for the full-size featured image\n",
    "main_img_path = soup.find('img', class_=\"main_image\")['src']\n",
    "featured_image_url = jpl_domain + main_img_path\n",
    "print(featured_image_url)"
   ]
  },
  {
   "cell_type": "code",
   "execution_count": 13,
   "metadata": {},
   "outputs": [],
   "source": [
    "# --- Scrape \"Mars Weather\" Twitter account ---\n",
    "\n",
    "# Open and parse the Twitter account\n",
    "mars_weather_url = 'https://twitter.com/marswxreport?lang=en'\n",
    "browser.visit(mars_weather_url)\n",
    "html = browser.html\n",
    "soup = bs(html, 'html.parser')"
   ]
  },
  {
   "cell_type": "code",
   "execution_count": 14,
   "metadata": {},
   "outputs": [],
   "source": [
    "# Find the latest weather report\n",
    "results = soup.find_all('div', class_='js-tweet-text-container')\n",
    "for result in results:\n",
    "    tweet_txt = result.find('p').text\n",
    "    try:\n",
    "        anchor_txt = result.find('a').text\n",
    "    except:\n",
    "        anchor_txt = ''\n",
    "    if re.search(r'^InSight sol', tweet_txt, re.IGNORECASE): break "
   ]
  },
  {
   "cell_type": "code",
   "execution_count": 15,
   "metadata": {},
   "outputs": [
    {
     "name": "stdout",
     "output_type": "stream",
     "text": [
      "InSight sol 137 (2019-04-16) low -97.0ºC (-142.7ºF) high -15.9ºC (3.4ºF)\n",
      "winds from the SW at 4.3 m/s (9.7 mph) gusting to 12.4 m/s (27.7 mph)\n",
      "pressure at 7.30 hPa\n"
     ]
    }
   ],
   "source": [
    "# Remove anchor url from the weather tweet\n",
    "regex = re.compile(anchor_txt)\n",
    "mars_weather = regex.sub('', tweet_txt)\n",
    "print(mars_weather)"
   ]
  },
  {
   "cell_type": "code",
   "execution_count": null,
   "metadata": {},
   "outputs": [],
   "source": []
  }
 ],
 "metadata": {
  "kernelspec": {
   "display_name": "Python 3",
   "language": "python",
   "name": "python3"
  },
  "language_info": {
   "codemirror_mode": {
    "name": "ipython",
    "version": 3
   },
   "file_extension": ".py",
   "mimetype": "text/x-python",
   "name": "python",
   "nbconvert_exporter": "python",
   "pygments_lexer": "ipython3",
   "version": "3.7.3"
  }
 },
 "nbformat": 4,
 "nbformat_minor": 2
}
