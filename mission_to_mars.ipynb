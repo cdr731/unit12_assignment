{
 "cells": [
  {
   "cell_type": "code",
   "execution_count": 1,
   "metadata": {},
   "outputs": [],
   "source": [
    "# Unit 12 Assignment - Mission to Mars\n",
    "# Step 1 - Scraping\n",
    "# by Christopher Reutz"
   ]
  },
  {
   "cell_type": "code",
   "execution_count": 2,
   "metadata": {},
   "outputs": [
    {
     "data": {
      "application/javascript": [
       "IPython.notebook.set_autosave_interval(0)"
      ]
     },
     "metadata": {},
     "output_type": "display_data"
    },
    {
     "name": "stdout",
     "output_type": "stream",
     "text": [
      "Autosave disabled\n"
     ]
    }
   ],
   "source": [
    "%autosave 0\n",
    "# Dependencies\n",
    "from splinter import Browser\n",
    "from bs4 import BeautifulSoup as bs\n",
    "import re\n",
    "import time\n",
    "import pandas as pd"
   ]
  },
  {
   "cell_type": "code",
   "execution_count": 3,
   "metadata": {},
   "outputs": [],
   "source": [
    "# Initialize executable path for the chromedriver\n",
    "executable_path = {'executable_path': 'chromedriver.exe'}\n",
    "browser = Browser('chrome', **executable_path, headless=True)"
   ]
  },
  {
   "cell_type": "code",
   "execution_count": 4,
   "metadata": {},
   "outputs": [],
   "source": [
    "# --- Scrape \"NASA Mars News\" website for news info ---\n",
    "mars_news_url = 'https://mars.nasa.gov/news/'\n",
    "\n",
    "# Retrieve page with Splinter\n",
    "browser.visit(mars_news_url)\n",
    "time.sleep(2)\n",
    "\n",
    "# Create BeautifulSoup object and parse with 'html.parser'\n",
    "html = browser.html\n",
    "soup = bs(html, \"html.parser\")"
   ]
  },
  {
   "cell_type": "code",
   "execution_count": 5,
   "metadata": {},
   "outputs": [],
   "source": [
    "# Initialize lists to put titles and paragraphs into\n",
    "news_title_list = []\n",
    "news_p_list = []"
   ]
  },
  {
   "cell_type": "code",
   "execution_count": 6,
   "metadata": {},
   "outputs": [],
   "source": [
    "# Extract all article titles and paragraphs and put into lists\n",
    "results = soup.find_all('li', class_='slide')\n",
    "for result in results:\n",
    "        # Error handling\n",
    "    try:\n",
    "        # Identify and return the news title\n",
    "        nasa_news_title = result.find('div', class_=\"content_title\").a.text\n",
    "        # Identify and return the news paragraph text\n",
    "        nasa_news_p = result.find('div', class_=\"article_teaser_body\").text\n",
    "\n",
    "        # Print results only if title and paragraph text are available\n",
    "        if (nasa_news_title and nasa_news_p):\n",
    "            news_title_list.append(nasa_news_title)\n",
    "            news_p_list.append(nasa_news_p)\n",
    "    except AttributeError as e:\n",
    "        print(e)"
   ]
  },
  {
   "cell_type": "code",
   "execution_count": 7,
   "metadata": {
    "scrolled": true
   },
   "outputs": [
    {
     "name": "stdout",
     "output_type": "stream",
     "text": [
      "Things Are Stacking up for NASA's Mars 2020 Spacecraft\n"
     ]
    }
   ],
   "source": [
    "# Latest \"NASA Mars News\" news title -- the first article (index=0)\n",
    "news_title = news_title_list[0]\n",
    "print(news_title)"
   ]
  },
  {
   "cell_type": "code",
   "execution_count": 8,
   "metadata": {},
   "outputs": [
    {
     "name": "stdout",
     "output_type": "stream",
     "text": [
      "As the July 2020 launch date inches closer, the next spacecraft headed to the Red Planet is assembled for more testing.\n"
     ]
    }
   ],
   "source": [
    "# Latest \"NASA Mars News\" next paragraph text -- the first article (index=0)\n",
    "news_p = news_p_list[0]\n",
    "print(news_p)"
   ]
  },
  {
   "cell_type": "code",
   "execution_count": 9,
   "metadata": {},
   "outputs": [],
   "source": [
    "# --- Scrape \"JPL Mars Space Images\" to get a URL for the featured image ---\n",
    "\n",
    "# Use Splinter to open up web browser to main page\n",
    "jpl_domain = 'https://www.jpl.nasa.gov'\n",
    "jpl_path = '/spaceimages/?search=&category=Mars'\n",
    "jpl_url = jpl_domain + jpl_path\n",
    "browser.visit(jpl_url)\n",
    "time.sleep(2)"
   ]
  },
  {
   "cell_type": "code",
   "execution_count": 10,
   "metadata": {},
   "outputs": [],
   "source": [
    "# Open the full featured image\n",
    "browser.click_link_by_partial_text('FULL IMAGE')\n",
    "time.sleep(1)"
   ]
  },
  {
   "cell_type": "code",
   "execution_count": 11,
   "metadata": {},
   "outputs": [],
   "source": [
    "# Open and parse the page with 'more info'\n",
    "browser.click_link_by_partial_text('more info')\n",
    "time.sleep(1)\n",
    "html = browser.html\n",
    "soup = bs(html, 'html.parser')"
   ]
  },
  {
   "cell_type": "code",
   "execution_count": 12,
   "metadata": {},
   "outputs": [
    {
     "name": "stdout",
     "output_type": "stream",
     "text": [
      "https://www.jpl.nasa.gov/spaceimages/images/largesize/PIA09113_hires.jpg\n"
     ]
    }
   ],
   "source": [
    "# Obtain URL for the full-size featured image\n",
    "main_img_path = soup.find('img', class_=\"main_image\")['src']\n",
    "featured_image_url = jpl_domain + main_img_path\n",
    "print(featured_image_url)"
   ]
  },
  {
   "cell_type": "code",
   "execution_count": 13,
   "metadata": {},
   "outputs": [],
   "source": [
    "# --- Scrape \"Mars Weather\" Twitter account ---\n",
    "\n",
    "# Open and parse the Twitter account\n",
    "mars_weather_url = 'https://twitter.com/marswxreport?lang=en'\n",
    "browser.visit(mars_weather_url)\n",
    "time.sleep(2)\n",
    "html = browser.html\n",
    "soup = bs(html, 'html.parser')"
   ]
  },
  {
   "cell_type": "code",
   "execution_count": 14,
   "metadata": {},
   "outputs": [],
   "source": [
    "# Find the latest weather report\n",
    "results = soup.find_all('div', class_='js-tweet-text-container')\n",
    "for result in results:\n",
    "    tweet_txt = result.find('p').text\n",
    "    try:\n",
    "        anchor_txt = result.find('a').text\n",
    "    except:\n",
    "        anchor_txt = ''\n",
    "    if re.search(r'^InSight sol', tweet_txt, re.IGNORECASE): break "
   ]
  },
  {
   "cell_type": "code",
   "execution_count": 15,
   "metadata": {},
   "outputs": [
    {
     "name": "stdout",
     "output_type": "stream",
     "text": [
      "InSight sol 141 (2019-04-20) low -98.3ºC (-144.9ºF) high -19.7ºC (-3.5ºF)\n",
      "winds from the SW at 4.7 m/s (10.6 mph) gusting to 12.9 m/s (28.8 mph)\n",
      "pressure at 7.40 hPa\n"
     ]
    }
   ],
   "source": [
    "# Remove anchor url from the weather tweet\n",
    "regex = re.compile(anchor_txt)\n",
    "mars_weather = regex.sub('', tweet_txt)\n",
    "print(mars_weather)"
   ]
  },
  {
   "cell_type": "code",
   "execution_count": 16,
   "metadata": {},
   "outputs": [],
   "source": [
    "# --- Scrape \"Mars Facts\" website table ---\n",
    "\n",
    "# Use Pandas to pull html table and put into a list\n",
    "marsfacts_url = 'https://space-facts.com/mars/'\n",
    "marsfacts_list = pd.read_html(marsfacts_url)"
   ]
  },
  {
   "cell_type": "code",
   "execution_count": 17,
   "metadata": {},
   "outputs": [
    {
     "data": {
      "text/html": [
       "<div>\n",
       "<style scoped>\n",
       "    .dataframe tbody tr th:only-of-type {\n",
       "        vertical-align: middle;\n",
       "    }\n",
       "\n",
       "    .dataframe tbody tr th {\n",
       "        vertical-align: top;\n",
       "    }\n",
       "\n",
       "    .dataframe thead th {\n",
       "        text-align: right;\n",
       "    }\n",
       "</style>\n",
       "<table border=\"1\" class=\"dataframe\">\n",
       "  <thead>\n",
       "    <tr style=\"text-align: right;\">\n",
       "      <th></th>\n",
       "      <th>Value</th>\n",
       "    </tr>\n",
       "    <tr>\n",
       "      <th>Description</th>\n",
       "      <th></th>\n",
       "    </tr>\n",
       "  </thead>\n",
       "  <tbody>\n",
       "    <tr>\n",
       "      <th>Equatorial Diameter:</th>\n",
       "      <td>6,792 km</td>\n",
       "    </tr>\n",
       "    <tr>\n",
       "      <th>Polar Diameter:</th>\n",
       "      <td>6,752 km</td>\n",
       "    </tr>\n",
       "    <tr>\n",
       "      <th>Mass:</th>\n",
       "      <td>6.42 x 10^23 kg (10.7% Earth)</td>\n",
       "    </tr>\n",
       "    <tr>\n",
       "      <th>Moons:</th>\n",
       "      <td>2 (Phobos &amp; Deimos)</td>\n",
       "    </tr>\n",
       "    <tr>\n",
       "      <th>Orbit Distance:</th>\n",
       "      <td>227,943,824 km (1.52 AU)</td>\n",
       "    </tr>\n",
       "    <tr>\n",
       "      <th>Orbit Period:</th>\n",
       "      <td>687 days (1.9 years)</td>\n",
       "    </tr>\n",
       "    <tr>\n",
       "      <th>Surface Temperature:</th>\n",
       "      <td>-153 to 20 °C</td>\n",
       "    </tr>\n",
       "    <tr>\n",
       "      <th>First Record:</th>\n",
       "      <td>2nd millennium BC</td>\n",
       "    </tr>\n",
       "    <tr>\n",
       "      <th>Recorded By:</th>\n",
       "      <td>Egyptian astronomers</td>\n",
       "    </tr>\n",
       "  </tbody>\n",
       "</table>\n",
       "</div>"
      ],
      "text/plain": [
       "                                              Value\n",
       "Description                                        \n",
       "Equatorial Diameter:                       6,792 km\n",
       "Polar Diameter:                            6,752 km\n",
       "Mass:                 6.42 x 10^23 kg (10.7% Earth)\n",
       "Moons:                          2 (Phobos & Deimos)\n",
       "Orbit Distance:            227,943,824 km (1.52 AU)\n",
       "Orbit Period:                  687 days (1.9 years)\n",
       "Surface Temperature:                  -153 to 20 °C\n",
       "First Record:                     2nd millennium BC\n",
       "Recorded By:                   Egyptian astronomers"
      ]
     },
     "execution_count": 17,
     "metadata": {},
     "output_type": "execute_result"
    }
   ],
   "source": [
    "# Put list into a dataframe and format\n",
    "marsfacts_df = marsfacts_list[0]\n",
    "marsfacts_df.columns = ['Description', 'Value']\n",
    "marsfacts_df.set_index('Description', inplace=True)\n",
    "marsfacts_df"
   ]
  },
  {
   "cell_type": "code",
   "execution_count": 18,
   "metadata": {},
   "outputs": [],
   "source": [
    "# Convert dataframe into an html table string\n",
    "marsfacts_table = marsfacts_df.to_html()"
   ]
  },
  {
   "cell_type": "code",
   "execution_count": 19,
   "metadata": {},
   "outputs": [],
   "source": [
    "# --- Scrape \"Mars Hemispheres\" images at USGS Astrogeology site ---\n",
    "\n",
    "# Use Splinter to open up web browser to main page\n",
    "usgs_domain = 'https://astrogeology.usgs.gov'\n",
    "usgs_path = '/search/results?q=hemisphere+enhanced&k1=target&v1=Mars'\n",
    "usgs_url = usgs_domain + usgs_path\n",
    "browser.visit(usgs_url)\n",
    "time.sleep(2)\n",
    "html = browser.html\n",
    "soup = bs(html, 'html.parser')"
   ]
  },
  {
   "cell_type": "code",
   "execution_count": 20,
   "metadata": {},
   "outputs": [],
   "source": [
    "# Initialize list of hemispheres\n",
    "hemisphere_image_urls = []"
   ]
  },
  {
   "cell_type": "code",
   "execution_count": 21,
   "metadata": {},
   "outputs": [],
   "source": [
    "# Find the images\n",
    "results = soup.find('div', class_='collapsible results').\\\n",
    "               find_all('div', class_='item')\n",
    "\n",
    "for result in results:\n",
    "    \n",
    "    # Jump to image page\n",
    "    link_text = result.find('div', class_='description').a.h3.text\n",
    "    browser.click_link_by_partial_text(link_text)\n",
    "    time.sleep(1)\n",
    "    \n",
    "    # Pull the image url\n",
    "    html = browser.html\n",
    "    soup = bs(html, 'html.parser')\n",
    "    img_path = soup.find('img', class_='wide-image')['src']\n",
    "    pic_dict = {}\n",
    "    pic_dict[\"title\"] = re.compile('Enhanced').sub('', link_text).rstrip()\n",
    "    pic_dict[\"img_url\"] = usgs_domain + img_path\n",
    "    hemisphere_image_urls.append(pic_dict)\n",
    "    \n",
    "    # Jump back to main page\n",
    "    browser.back()\n",
    "    time.sleep(1)"
   ]
  },
  {
   "cell_type": "code",
   "execution_count": 22,
   "metadata": {},
   "outputs": [
    {
     "name": "stdout",
     "output_type": "stream",
     "text": [
      "[{'title': 'Cerberus Hemisphere', 'img_url': 'https://astrogeology.usgs.gov/cache/images/cfa62af2557222a02478f1fcd781d445_cerberus_enhanced.tif_full.jpg'}, {'title': 'Schiaparelli Hemisphere', 'img_url': 'https://astrogeology.usgs.gov/cache/images/3cdd1cbf5e0813bba925c9030d13b62e_schiaparelli_enhanced.tif_full.jpg'}, {'title': 'Syrtis Major Hemisphere', 'img_url': 'https://astrogeology.usgs.gov/cache/images/ae209b4e408bb6c3e67b6af38168cf28_syrtis_major_enhanced.tif_full.jpg'}, {'title': 'Valles Marineris Hemisphere', 'img_url': 'https://astrogeology.usgs.gov/cache/images/7cf2da4bf549ed01c17f206327be4db7_valles_marineris_enhanced.tif_full.jpg'}]\n"
     ]
    }
   ],
   "source": [
    "print(hemisphere_image_urls)"
   ]
  }
 ],
 "metadata": {
  "kernelspec": {
   "display_name": "Python 3",
   "language": "python",
   "name": "python3"
  },
  "language_info": {
   "codemirror_mode": {
    "name": "ipython",
    "version": 3
   },
   "file_extension": ".py",
   "mimetype": "text/x-python",
   "name": "python",
   "nbconvert_exporter": "python",
   "pygments_lexer": "ipython3",
   "version": "3.7.3"
  }
 },
 "nbformat": 4,
 "nbformat_minor": 2
}
